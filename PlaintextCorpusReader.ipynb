{
 "cells": [
  {
   "cell_type": "code",
   "execution_count": 13,
   "metadata": {},
   "outputs": [],
   "source": [
    "import nltk\n",
    "from nltk.corpus import PlaintextCorpusReader\n",
    "wordlists = PlaintextCorpusReader(\"./TEXT/\",\".*.txt\")\n",
    "wordlists.fileids()\n",
    "\n",
    "\n",
    "import string\n",
    "\n",
    "## Module constants\n",
    "lemmatizer  = nltk.WordNetLemmatizer()\n",
    "stopwords   = set(nltk.corpus.stopwords.words('english'))\n",
    "punctuation = string.punctuation\n",
    "\n",
    "def normalize(text):\n",
    "    for token in nltk.word_tokenize(text):\n",
    "        token = token.lower()\n",
    "        token = lemmatizer.lemmatize(token)\n",
    "        if token not in stopwords and token not in punctuation:\n",
    "            yield token"
   ]
  },
  {
   "cell_type": "code",
   "execution_count": 38,
   "metadata": {},
   "outputs": [
    {
     "data": {
      "text/plain": [
       "['CA_Athabasca.txt',\n",
       " 'CA_Atlantic_School_Theology.txt',\n",
       " 'CA_Brandon.txt',\n",
       " 'CA_Brescia.txt',\n",
       " 'CA_Brock.txt',\n",
       " 'CA_Concordia.txt',\n",
       " 'CA_Dalhousie.txt',\n",
       " 'CA_Emily_Carr.txt',\n",
       " 'CA_Grant_MacEwan.txt',\n",
       " 'CA_Keyano.txt',\n",
       " 'CA_Laurentian.txt',\n",
       " 'CA_McGill.txt',\n",
       " 'CA_McMaster.txt',\n",
       " 'CA_Mount_Allison.txt',\n",
       " 'CA_Mount_Royal.txt',\n",
       " 'CA_Mount_Saint_Vincent.txt',\n",
       " 'CA_Okanagan.txt',\n",
       " 'CA_Portage.txt',\n",
       " 'CA_Queens.txt',\n",
       " 'CA_Ryerson.txt',\n",
       " 'CA_Saint_Mary.txt',\n",
       " 'CA_Simon_Fraser.txt',\n",
       " 'CA_Southern_Alberta_Institute of Technology.txt',\n",
       " 'CA_Trent.txt',\n",
       " 'CA_U_Alberta.txt',\n",
       " 'CA_U_BC.txt',\n",
       " 'CA_U_Calgary.txt',\n",
       " 'CA_U_Guelph.txt',\n",
       " 'CA_U_Lethbridge.txt',\n",
       " 'CA_U_Manitoba.txt',\n",
       " 'CA_U_New_Brunswick.txt',\n",
       " 'CA_U_Ottawa.txt',\n",
       " 'CA_U_Regina.txt',\n",
       " 'CA_U_Saskatchewan.txt',\n",
       " 'CA_U_Toronto.txt',\n",
       " 'CA_U_Waterloo.txt',\n",
       " 'CA_U_Windsor.txt',\n",
       " 'CA_U_Winnipeg.txt',\n",
       " 'CA_Victoria_U.txt',\n",
       " 'CA_Western.txt',\n",
       " 'CA_Wilfred_Laurier_U.txt']"
      ]
     },
     "execution_count": 38,
     "metadata": {},
     "output_type": "execute_result"
    }
   ],
   "source": [
    "wordlists.fileids()"
   ]
  },
  {
   "cell_type": "code",
   "execution_count": 15,
   "metadata": {},
   "outputs": [
    {
     "data": {
      "text/plain": [
       "['9', '.', 'ARTICLE', '9', '*', 'Academic', 'Freedom', ...]"
      ]
     },
     "execution_count": 15,
     "metadata": {},
     "output_type": "execute_result"
    }
   ],
   "source": [
    "wordlists.words(\"CA_U_Ottawa.txt\")"
   ]
  },
  {
   "cell_type": "code",
   "execution_count": 37,
   "metadata": {},
   "outputs": [
    {
     "data": {
      "text/plain": [
       "<generator object <genexpr> at 0x7fb84318f888>"
      ]
     },
     "execution_count": 37,
     "metadata": {},
     "output_type": "execute_result"
    }
   ],
   "source": [
    "(normalize(w) for w in wordlists.words(\"CA_U_Ottawa.txt\"))"
   ]
  },
  {
   "cell_type": "code",
   "execution_count": null,
   "metadata": {},
   "outputs": [],
   "source": []
  },
  {
   "cell_type": "code",
   "execution_count": null,
   "metadata": {},
   "outputs": [],
   "source": []
  }
 ],
 "metadata": {
  "kernelspec": {
   "display_name": "Python 3",
   "language": "python",
   "name": "python3"
  },
  "language_info": {
   "codemirror_mode": {
    "name": "ipython",
    "version": 3
   },
   "file_extension": ".py",
   "mimetype": "text/x-python",
   "name": "python",
   "nbconvert_exporter": "python",
   "pygments_lexer": "ipython3",
   "version": "3.6.4"
  }
 },
 "nbformat": 4,
 "nbformat_minor": 2
}
