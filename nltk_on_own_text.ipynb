{
 "cells": [
  {
   "cell_type": "code",
   "execution_count": 16,
   "metadata": {},
   "outputs": [],
   "source": [
    "import string\n",
    "import nltk\n",
    "import matplotlib\n",
    "%matplotlib inline\n",
    "from nltk.corpus import PlaintextCorpusReader"
   ]
  },
  {
   "cell_type": "code",
   "execution_count": 2,
   "metadata": {},
   "outputs": [],
   "source": [
    "## constants\n",
    "lemmatizer  = nltk.WordNetLemmatizer()\n",
    "stopwords   = set(nltk.corpus.stopwords.words('english'))\n",
    "punctuation = string.punctuation\n",
    "\n",
    "def normalize(text):\n",
    "    for token in nltk.word_tokenize(text):\n",
    "        token = token.lower()\n",
    "        token = lemmatizer.lemmatize(token)\n",
    "        if token not in stopwords and token not in punctuation:\n",
    "            return token\n",
    "        \n",
    "def normalize_wordlist(wordlist):\n",
    "    normalized_wordlist = [normalize(w) for w in wordlist]\n",
    "    # discard punctuation\n",
    "    return [tok for tok in normalized_wordlist if tok is not None]"
   ]
  },
  {
   "cell_type": "code",
   "execution_count": 3,
   "metadata": {},
   "outputs": [
    {
     "data": {
      "text/plain": [
       "['TEXT/CA_Athabasca.txt',\n",
       " 'TEXT/CA_Atlantic_School_Theology.txt',\n",
       " 'TEXT/CA_Brandon.txt',\n",
       " 'TEXT/CA_Brescia.txt',\n",
       " 'TEXT/CA_Brock.txt',\n",
       " 'TEXT/CA_Concordia.txt',\n",
       " 'TEXT/CA_Dalhousie.txt',\n",
       " 'TEXT/CA_Emily_Carr.txt',\n",
       " 'TEXT/CA_Grant_MacEwan.txt',\n",
       " 'TEXT/CA_Keyano.txt',\n",
       " 'TEXT/CA_Laurentian.txt',\n",
       " 'TEXT/CA_McGill.txt',\n",
       " 'TEXT/CA_McMaster.txt',\n",
       " 'TEXT/CA_Mount_Allison.txt',\n",
       " 'TEXT/CA_Mount_Royal.txt',\n",
       " 'TEXT/CA_Mount_Saint_Vincent.txt',\n",
       " 'TEXT/CA_Okanagan.txt',\n",
       " 'TEXT/CA_Portage.txt',\n",
       " 'TEXT/CA_Queens.txt',\n",
       " 'TEXT/CA_Ryerson.txt',\n",
       " 'TEXT/CA_Saint_Mary.txt',\n",
       " 'TEXT/CA_Simon_Fraser.txt',\n",
       " 'TEXT/CA_Southern_Alberta_Institute of Technology.txt',\n",
       " 'TEXT/CA_Trent.txt',\n",
       " 'TEXT/CA_U_Alberta.txt',\n",
       " 'TEXT/CA_U_BC.txt',\n",
       " 'TEXT/CA_U_Calgary.txt',\n",
       " 'TEXT/CA_U_Guelph.txt',\n",
       " 'TEXT/CA_U_Lethbridge.txt',\n",
       " 'TEXT/CA_U_Manitoba.txt',\n",
       " 'TEXT/CA_U_New_Brunswick.txt',\n",
       " 'TEXT/CA_U_Ottawa.txt',\n",
       " 'TEXT/CA_U_Regina.txt',\n",
       " 'TEXT/CA_U_Saskatchewan.txt',\n",
       " 'TEXT/CA_U_Toronto.txt',\n",
       " 'TEXT/CA_U_Waterloo.txt',\n",
       " 'TEXT/CA_U_Windsor.txt',\n",
       " 'TEXT/CA_U_Winnipeg.txt',\n",
       " 'TEXT/CA_Victoria_U.txt',\n",
       " 'TEXT/CA_Western.txt',\n",
       " 'TEXT/CA_Wilfred_Laurier_U.txt']"
      ]
     },
     "execution_count": 3,
     "metadata": {},
     "output_type": "execute_result"
    }
   ],
   "source": [
    "corpus_root = '.'\n",
    "wordlists = PlaintextCorpusReader(corpus_root, '.*.txt')\n",
    "wordlists.fileids()"
   ]
  },
  {
   "cell_type": "code",
   "execution_count": 4,
   "metadata": {},
   "outputs": [
    {
     "data": {
      "text/plain": [
       "['11', '.', 'Academic', 'and', 'Professional', ...]"
      ]
     },
     "execution_count": 4,
     "metadata": {},
     "output_type": "execute_result"
    }
   ],
   "source": [
    "wordlists.words()"
   ]
  },
  {
   "cell_type": "code",
   "execution_count": 6,
   "metadata": {},
   "outputs": [
    {
     "data": {
      "text/plain": [
       "['ACADEMIC', 'FREEDOM', '1', '.', 'The', 'essential', ...]"
      ]
     },
     "execution_count": 6,
     "metadata": {},
     "output_type": "execute_result"
    }
   ],
   "source": [
    "wordlists.words('TEXT/CA_Western.txt')"
   ]
  },
  {
   "cell_type": "code",
   "execution_count": 7,
   "metadata": {},
   "outputs": [
    {
     "data": {
      "text/plain": [
       "['academic',\n",
       " 'freedom',\n",
       " '1',\n",
       " 'essential',\n",
       " 'function',\n",
       " 'university',\n",
       " 'pursuit',\n",
       " 'creation',\n",
       " 'dissemination',\n",
       " 'knowledge']"
      ]
     },
     "execution_count": 7,
     "metadata": {},
     "output_type": "execute_result"
    }
   ],
   "source": [
    "tokens = normalize_wordlist(wordlists.words('TEXT/CA_Western.txt'))\n",
    "tokens[:10]"
   ]
  },
  {
   "cell_type": "code",
   "execution_count": 9,
   "metadata": {},
   "outputs": [],
   "source": [
    "mytext = nltk.Text(tokens)"
   ]
  },
  {
   "cell_type": "code",
   "execution_count": 13,
   "metadata": {},
   "outputs": [
    {
     "name": "stdout",
     "output_type": "stream",
     "text": [
      "Displaying 15 of 15 matches:\n",
      "                                   academic freedom 1 essential function unive\n",
      "                                   academic freedom essential function ensures\n",
      "respected member shall enjoy right academic freedom shall free institutional c\n",
      "on public interest pursuit truth 2 academic freedom specifically entail necess\n",
      "ion agree uphold protect principle academic freedom specified herein infringe \n",
      "n infringe upon abridge 4 exercise academic freedom described article shall ca\n",
      " association countenance restraint academic freedom imposition arising exercis\n",
      "university 5 credibility principle academic freedom depends upon collective co\n",
      " honest ethical search knowledge 6 academic freedom doe require neutrality par\n",
      "lude commitment part member rather academic freedom make commitment possible a\n",
      "c freedom make commitment possible academic freedom also carry responsibility \n",
      "er expected recognize right member academic community faculty staff student --\n",
      "y staff student -- express opinion academic freedom doe confer legal immunity \n",
      "dorse subscribe statement defining academic freedom context library expressing\n",
      "sing responsibility library uphold academic freedom given originally canadian \n"
     ]
    }
   ],
   "source": [
    "mytext.concordance('academic')"
   ]
  },
  {
   "cell_type": "code",
   "execution_count": 21,
   "metadata": {},
   "outputs": [],
   "source": [
    "from nltk import FreqDist"
   ]
  },
  {
   "cell_type": "code",
   "execution_count": 23,
   "metadata": {},
   "outputs": [
    {
     "data": {
      "image/png": "[encoded data removed]",
      "text/plain": [
       "<matplotlib.figure.Figure at 0x7fa3575ab9b0>"
      ]
     },
     "metadata": {},
     "output_type": "display_data"
    }
   ],
   "source": [
    "fdist = FreqDist(mytext)\n",
    "fdist.plot(10)"
   ]
  },
  {
   "cell_type": "code",
   "execution_count": null,
   "metadata": {
    "collapsed": true
   },
   "outputs": [],
   "source": []
  }
 ],
 "metadata": {
  "anaconda-cloud": {},
  "kernelspec": {
   "display_name": "Python 3",
   "language": "python",
   "name": "python3"
  },
  "language_info": {
   "codemirror_mode": {
    "name": "ipython",
    "version": 3
   },
   "file_extension": ".py",
   "mimetype": "text/x-python",
   "name": "python",
   "nbconvert_exporter": "python",
   "pygments_lexer": "ipython3",
   "version": "3.6.4"
  }
 },
 "nbformat": 4,
 "nbformat_minor": 1
}
